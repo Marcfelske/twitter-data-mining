{
 "cells": [
  {
   "cell_type": "markdown",
   "metadata": {
    "colab_type": "text",
    "id": "Xy8uVQ6we6PH"
   },
   "source": [
    "# Script to get twitter friends\n",
    "\n",
    "## Special requirements for the environment"
   ]
  },
  {
   "cell_type": "code",
   "execution_count": null,
   "metadata": {
    "colab": {},
    "colab_type": "code",
    "id": "DiXxu37mzo0T"
   },
   "outputs": [],
   "source": [
    "version_id = 'V14'\n",
    "\n",
    "run_in = 'local'\n",
    "#run_in = 'colab'"
   ]
  },
  {
   "cell_type": "markdown",
   "metadata": {
    "colab_type": "text",
    "id": "R9GHzR4zgU89"
   },
   "source": [
    "# Install requirements via pip etc."
   ]
  },
  {
   "cell_type": "markdown",
   "metadata": {
    "colab_type": "text",
    "id": "pOj6sjGVe6PL"
   },
   "source": [
    "## Import statements"
   ]
  },
  {
   "cell_type": "code",
   "execution_count": null,
   "metadata": {
    "colab": {},
    "colab_type": "code",
    "id": "nireLKaYgZ-8",
    "outputId": "8b5ab1a1-2ae0-411f-88bb-635aa3892375"
   },
   "outputs": [],
   "source": [
    "if run_in == 'local':\n",
    "  import csv\n",
    "  import os\n",
    "  import pandas as pd\n",
    "  import numpy as np\n",
    "  import tweepy\n",
    "  import time\n",
    "  import json\n",
    "  import sys\n",
    "  import datetime\n",
    "  import traceback\n",
    "  print('Local runtime has packages')\n",
    "  \n",
    "if run_in == 'colab':\n",
    "  print('Downloading packages has packages')\n",
    "  !pip install tweepy\n",
    "  !pip install xlrd\n",
    "  !pip install XlsxWriter\n",
    "  import csv\n",
    "  import os\n",
    "  import pandas as pd\n",
    "  import numpy as np\n",
    "  import tweepy\n",
    "  import time\n",
    "  import json\n",
    "  import sys\n",
    "  import datetime\n",
    "  import traceback"
   ]
  },
  {
   "cell_type": "markdown",
   "metadata": {
    "colab_type": "text",
    "id": "R04uUCmrgpwm"
   },
   "source": [
    "# Get access to *your personal *GDrive"
   ]
  },
  {
   "cell_type": "markdown",
   "metadata": {
    "colab_type": "text",
    "id": "MvFQcCHGii7s"
   },
   "source": [
    "## Define your personal path to the folder we will work in\n",
    "\n",
    "We expect two things on your *personal* GDrive:\n",
    "1. We expect a csv file with startup IDs\n",
    "2. We expect an output folder in which we can dump the results and the log files"
   ]
  },
  {
   "cell_type": "code",
   "execution_count": null,
   "metadata": {
    "colab": {},
    "colab_type": "code",
    "id": "8TgvDuAjg3vj",
    "outputId": "371945d2-3879-4721-cb28-8bc55924c96d"
   },
   "outputs": [],
   "source": [
    "if run_in == 'local':\n",
    "  base_path = \"/users/USERNAME/Google Drive/USERNAME/\"\n",
    "if run_in == 'colab':\n",
    "  base_path = \"/content/drive/My Drive/USERNAME/\"\n",
    "  from google.colab import drive\n",
    "  drive.mount('/content/drive')\n",
    "  \n",
    "print('base_path set to:')\n",
    "print(base_path)"
   ]
  },
  {
   "cell_type": "markdown",
   "metadata": {
    "colab_type": "text",
    "id": "Zqg5EWbciWmz"
   },
   "source": [
    "### Check that we can access the GDrive and your personal folder\n",
    "\n",
    "Make sure that we can see the two things:\n",
    "1. A file called startups.csv with one column that lists all the twitter handles\n",
    "2. A folder called 'outputs' in which this script will store all results and log files"
   ]
  },
  {
   "cell_type": "code",
   "execution_count": null,
   "metadata": {
    "colab": {},
    "colab_type": "code",
    "id": "TCm4OVldiaLz",
    "outputId": "f1533e6f-a230-4401-fdc4-881a864de80b"
   },
   "outputs": [],
   "source": [
    "os.listdir(base_path)"
   ]
  },
  {
   "cell_type": "code",
   "execution_count": null,
   "metadata": {
    "colab": {},
    "colab_type": "code",
    "id": "TxjhDe_wNc5C",
    "outputId": "87d15518-ec4b-4e01-a47b-ac2d5048a3ee"
   },
   "outputs": [],
   "source": [
    "os.listdir(base_path + 'Pitchbook_Crunchbase_Tracxn_Raw')"
   ]
  },
  {
   "cell_type": "code",
   "execution_count": null,
   "metadata": {
    "colab": {},
    "colab_type": "code",
    "id": "oaMdlT36z3Wl",
    "outputId": "9166e702-e183-456e-e93f-8c0ecfa5a9a6"
   },
   "outputs": [],
   "source": [
    "os.listdir(base_path + \"Pitchbook_Crunchbase_Tracxn_Raw/Don't touch \" + version_id)"
   ]
  },
  {
   "cell_type": "code",
   "execution_count": null,
   "metadata": {
    "colab": {},
    "colab_type": "code",
    "id": "EgFzX0EDyxnL",
    "outputId": "1cb407aa-4abb-4e64-e01a-2db650390590"
   },
   "outputs": [],
   "source": [
    "output_path = os.path.join(base_path + 'outputs/' + version_id + '/friends/id_lists/')\n",
    "os.listdir(output_path)"
   ]
  },
  {
   "cell_type": "markdown",
   "metadata": {
    "colab_type": "text",
    "id": "PTYymx4ie6Pu"
   },
   "source": [
    "## Get twitter Friends"
   ]
  },
  {
   "cell_type": "markdown",
   "metadata": {
    "colab_type": "text",
    "id": "GEexHWlse6Pw"
   },
   "source": [
    "### Authentication and generate the Tweepy API"
   ]
  },
  {
   "cell_type": "code",
   "execution_count": null,
   "metadata": {
    "colab": {},
    "colab_type": "code",
    "id": "vfyA4AUde6Py"
   },
   "outputs": [],
   "source": [
    "# Documentation: http://docs.tweepy.org/en/v3.5.0/api.html\n",
    "\n",
    "consumer_key = 'consumer_key' # (API key)\n",
    "consumer_secret = 'consumer_secret' # (API secret key)\n",
    "\n",
    "access_token = 'access_token' # (Access token)\n",
    "access_token_secret = 'access_token_secret' # (Access token secret)\n",
    "\n",
    "auth = tweepy.OAuthHandler(consumer_key, consumer_secret)\n",
    "\n",
    "auth.set_access_token(access_token, access_token_secret)\n",
    "\n",
    "# Construct the API instance\n",
    "# Wait upon reaching rate limit\n",
    "api = tweepy.API(auth, wait_on_rate_limit = True, wait_on_rate_limit_notify=True, compression=True)"
   ]
  },
  {
   "cell_type": "markdown",
   "metadata": {
    "colab_type": "text",
    "id": "R1GJX8sZe6P5"
   },
   "source": [
    "### Read all start-ups"
   ]
  },
  {
   "cell_type": "code",
   "execution_count": null,
   "metadata": {
    "colab": {},
    "colab_type": "code",
    "id": "FKrZvzHtlUX7",
    "outputId": "8a5c055e-3aee-41b4-937e-1638fa4bab63"
   },
   "outputs": [],
   "source": [
    "df = pd.read_excel(base_path + \"Pitchbook_Crunchbase_Tracxn_Raw/Don't touch \" + version_id + '/' + version_id + '.xlsx',  version_id + 'twitter_handle_scrape', encoding = \"ISO-8859-1\", header=None, skiprows=1, dtype={'uid':str}, names=['company_name','twitter_handle'], usecols=\"A,O\")\n",
    "df.head(10)"
   ]
  },
  {
   "cell_type": "code",
   "execution_count": null,
   "metadata": {
    "colab": {},
    "colab_type": "code",
    "id": "EJmpAQD_e6P8",
    "outputId": "fb863d8e-df51-4860-c67f-8bf3bc76a82d"
   },
   "outputs": [],
   "source": [
    "df.shape"
   ]
  },
  {
   "cell_type": "code",
   "execution_count": null,
   "metadata": {},
   "outputs": [],
   "source": [
    "find_rows = df.loc[df['twitter_handle'] == \"aitrading_com\"]\n",
    "find_rows"
   ]
  },
  {
   "cell_type": "markdown",
   "metadata": {
    "colab_type": "text",
    "id": "U3_7HKcSe6QI"
   },
   "source": [
    "### Clean start-ups without Twitter handles"
   ]
  },
  {
   "cell_type": "markdown",
   "metadata": {
    "colab_type": "text",
    "id": "xrLnT6s4e6QL"
   },
   "source": [
    "Filter rows so that \"NOTAPPLICABLE\" is not in the data"
   ]
  },
  {
   "cell_type": "code",
   "execution_count": null,
   "metadata": {
    "colab": {},
    "colab_type": "code",
    "id": "PF_2-khWe6Qk",
    "outputId": "1fc0541d-0efc-4fa6-c5a3-824b4c83c2fd"
   },
   "outputs": [],
   "source": [
    "useful_rows = df.loc[df['twitter_handle'] != \"NOTAPPLICABLE\"]\n",
    "\n",
    "useful_rows.head(5)"
   ]
  },
  {
   "cell_type": "code",
   "execution_count": null,
   "metadata": {
    "colab": {},
    "colab_type": "code",
    "id": "WUPQhSDaloGp",
    "outputId": "db92690e-b856-41bd-a07b-ea7933de7942"
   },
   "outputs": [],
   "source": [
    "useful_rows.shape"
   ]
  },
  {
   "cell_type": "code",
   "execution_count": null,
   "metadata": {
    "colab": {},
    "colab_type": "code",
    "id": "bfUrOQkqt88N",
    "outputId": "3093609c-5fec-465a-d690-418b7b713f09"
   },
   "outputs": [],
   "source": [
    "# Check if we have any duplicate handles\n",
    "\n",
    "useful_rows['twitter_handle'].value_counts()"
   ]
  },
  {
   "cell_type": "code",
   "execution_count": null,
   "metadata": {
    "colab": {},
    "colab_type": "code",
    "id": "8g9MajFL1tNC",
    "outputId": "a4247f19-c672-4568-8a6c-2395860a1772"
   },
   "outputs": [],
   "source": [
    "# Check if we have null results\n",
    "\n",
    "# pd.isnull(useful_rows)\n",
    "\n",
    "useful_rows.dropna()\n",
    "useful_rows[:10]"
   ]
  },
  {
   "cell_type": "code",
   "execution_count": null,
   "metadata": {
    "colab": {},
    "colab_type": "code",
    "id": "F_r4kTBv1xc3",
    "outputId": "a2c0fde4-bc4e-4812-f0ef-d1ee618bfa1a"
   },
   "outputs": [],
   "source": [
    "useful_rows.shape"
   ]
  },
  {
   "cell_type": "markdown",
   "metadata": {
    "colab_type": "text",
    "id": "kEmuUW8me6RN"
   },
   "source": [
    "### Extract the remaining Twitter handles"
   ]
  },
  {
   "cell_type": "code",
   "execution_count": null,
   "metadata": {
    "colab": {},
    "colab_type": "code",
    "id": "6X2x3d3He6RP",
    "outputId": "193c7569-7b42-46db-d119-7e7602423fd2"
   },
   "outputs": [],
   "source": [
    "list_of_handles_from_csv = useful_rows['twitter_handle'].tolist()\n",
    "\n",
    "# Remove nan values=\n",
    "list_of_handles_from_csv = [x for x in list_of_handles_from_csv if x == x]\n",
    "\n",
    "print(\"We have this many handles: \" + str(len(list_of_handles_from_csv)))\n",
    "print(list_of_handles_from_csv)"
   ]
  },
  {
   "cell_type": "markdown",
   "metadata": {
    "colab_type": "text",
    "id": "RmzPI0L6qTg9"
   },
   "source": [
    "## Instead of looping through all handles, we only take those where we do not have complete results yet\n",
    "\n",
    "* Do we have a folder already? \n",
    "  * If not, add handle to list.\n",
    "  * If yes, do we have all 4 files we need? If not, add handle to list."
   ]
  },
  {
   "cell_type": "code",
   "execution_count": null,
   "metadata": {
    "colab": {},
    "colab_type": "code",
    "id": "DzUclmmpq4NW",
    "outputId": "b0e3bf85-1d6d-4948-c5af-bbce35094748"
   },
   "outputs": [],
   "source": [
    "list_of_handles_we_still_need_to_process = []\n",
    "\n",
    "# Convert list of handles from CSV into a set\n",
    "set_of_handles_from_csv = set(list_of_handles_from_csv)\n",
    "print(len(set_of_handles_from_csv))"
   ]
  },
  {
   "cell_type": "markdown",
   "metadata": {
    "colab_type": "text",
    "id": "1ybsKIMIrldi"
   },
   "source": [
    "#### Check folder names against the set of handles"
   ]
  },
  {
   "cell_type": "code",
   "execution_count": null,
   "metadata": {
    "colab": {},
    "colab_type": "code",
    "id": "7MvKhgenruRt",
    "outputId": "d63ea124-a335-4bb9-fbca-ca9a4d844291"
   },
   "outputs": [],
   "source": [
    "list_of_folders = [dI for dI in os.listdir(output_path) if os.path.isdir(os.path.join(output_path,dI))]\n",
    "print(list_of_folders)"
   ]
  },
  {
   "cell_type": "code",
   "execution_count": null,
   "metadata": {
    "colab": {},
    "colab_type": "code",
    "id": "jsBhp--MvBgk",
    "outputId": "ac7b284f-6c5e-4432-8cfa-be4edb18f8f9"
   },
   "outputs": [],
   "source": [
    "# Convert list into set and compare it to above list\n",
    "# What has not a folder yet, needs to be processed in any case\n",
    "\n",
    "set_of_folder_names_we_have_already = set(list_of_folders)\n",
    "print(set_of_folder_names_we_have_already)"
   ]
  },
  {
   "cell_type": "code",
   "execution_count": null,
   "metadata": {
    "colab": {},
    "colab_type": "code",
    "id": "6sehF-dDvTyy",
    "outputId": "8b8e7675-8ae1-4466-e36b-0626993424cb"
   },
   "outputs": [],
   "source": [
    "print('We have ' + str(len(set_of_folder_names_we_have_already)) + ' folders stored already.')"
   ]
  },
  {
   "cell_type": "code",
   "execution_count": null,
   "metadata": {
    "colab": {},
    "colab_type": "code",
    "id": "bahAtKVbvhfi",
    "outputId": "4de38c08-0b78-4fce-c55b-fba0518c0e36"
   },
   "outputs": [],
   "source": [
    "set_of_handles_without_a_folder = set_of_handles_from_csv - set_of_folder_names_we_have_already\n",
    "\n",
    "print(set_of_handles_without_a_folder)\n",
    "print('We do not have folders for ' + str(len(set_of_handles_without_a_folder)) + ' handles.')"
   ]
  },
  {
   "cell_type": "code",
   "execution_count": null,
   "metadata": {
    "colab": {},
    "colab_type": "code",
    "id": "cOmPyI8Pv9SJ"
   },
   "outputs": [],
   "source": [
    "# Add them to the todo list\n",
    "list_of_handles_we_still_need_to_process = list(set_of_handles_without_a_folder)"
   ]
  },
  {
   "cell_type": "code",
   "execution_count": null,
   "metadata": {
    "colab": {},
    "colab_type": "code",
    "id": "CDLp3wumx2th",
    "outputId": "125ada2a-3cf7-45b0-b088-96e3d8064540"
   },
   "outputs": [],
   "source": [
    "print(list_of_handles_we_still_need_to_process)"
   ]
  },
  {
   "cell_type": "code",
   "execution_count": null,
   "metadata": {
    "colab": {},
    "colab_type": "code",
    "id": "MO9zOAg_wUR8",
    "outputId": "bfe84230-5e14-4c0b-b59f-917b6529f0ed"
   },
   "outputs": [],
   "source": [
    "counter = 0\n",
    "\n",
    "for folder_name in set_of_folder_names_we_have_already:\n",
    "  \n",
    "  # Every x is a root, dirs, files\n",
    "  list_of_files = [x[2] for x in os.walk(output_path + str(folder_name))]\n",
    "  # print(list_of_files[0])\n",
    "  \n",
    "  if len(list_of_files[0]) <= 0:\n",
    "    \n",
    "    list_of_handles_we_still_need_to_process.append(folder_name)\n",
    "    counter += 1\n",
    "\n",
    "print('We added ' + str(counter) + ' additional handles where the download was incomplete.')"
   ]
  },
  {
   "cell_type": "markdown",
   "metadata": {
    "colab_type": "text",
    "id": "EUwWNN3Oe6RY"
   },
   "source": [
    "### Loop through Twitter handles and obtain the Friends IDs\n",
    "\n",
    "\n",
    "* Sometimes we want to include lists.\n",
    " * Which can be indented.\n",
    "\n",
    "1. Take one start-up Twitter handle and determine the Friends IDs"
   ]
  },
  {
   "cell_type": "code",
   "execution_count": null,
   "metadata": {
    "colab": {},
    "colab_type": "code",
    "id": "uA6IQUIIzi3L",
    "outputId": "26e55fdc-bdcb-4ad3-d134-72e695dcd779"
   },
   "outputs": [],
   "source": [
    "list_of_handles_we_still_need_to_process.sort()\n",
    "print(list_of_handles_we_still_need_to_process)"
   ]
  },
  {
   "cell_type": "code",
   "execution_count": null,
   "metadata": {
    "colab": {},
    "colab_type": "code",
    "id": "TP25RfCwe6Ra",
    "outputId": "8ff4e041-6bf4-4edf-aae3-991fc83e7a5d"
   },
   "outputs": [],
   "source": [
    "for twitter_id in list_of_handles_we_still_need_to_process[1:]:\n",
    "  print(twitter_id)\n",
    "  start_up = api.get_user(twitter_id)\n",
    "  print(\"-------------\" + str(list_of_handles_we_still_need_to_process.index(twitter_id)) + \"/\" + str(len(list_of_handles_we_still_need_to_process))+ \"---------------\")\n",
    "  print('Start-up: ' + str(twitter_id)) \n",
    "  print('Start-up_ID: ' + str(start_up.id))\n",
    "  print('Start-up_screen_name: ' + str(start_up.screen_name)) \n",
    "  print('Start-up_description: ' + str(start_up.description))\n",
    "  print('Start-up_url: ' + str(start_up.url))\n",
    "  print('Start-up_created_at: ' + str(start_up.created_at))\n",
    "  \n",
    "  result = {\n",
    "      \"twitter_handle\": twitter_id\n",
    "  }\n",
    "\n",
    "  # Create a folder to store this twitter handle's results\n",
    "  path_to_folder_for_this_handle = output_path + str(twitter_id) + '/'\n",
    "  print(path_to_folder_for_this_handle)\n",
    "  if not os.path.exists(path_to_folder_for_this_handle):\n",
    "    os.mkdir(path_to_folder_for_this_handle)\n",
    "\n",
    "\n",
    "  ########################################################################\n",
    "  # Get friends_ids, i.e. the ids of people that are being followed\n",
    "  ########################################################################\n",
    "\n",
    "  friends_ids = []\n",
    "  page_counter_friends = 0\n",
    "\n",
    "  try:\n",
    "\n",
    "    # We can use screen_name (screen_name = ) or id as a parameter (id = 'McDonalds')\n",
    "    # friends_ids has a max count per page of 5000\n",
    "    for page in tweepy.Cursor(api.friends_ids, id = twitter_id, count = 5000).pages():\n",
    "      friends_ids.extend(page)\n",
    "      print('This is page ' + str(page_counter_friends))\n",
    "      page_counter_friends += 1\n",
    "      time.sleep(2)\n",
    "\n",
    "    print(\"Number of ids in the list: \" + str(len(friends_ids)))\n",
    "    print(\"Friends IDs:\")\n",
    "    print(friends_ids)\n",
    "    print(datetime.datetime.now())\n",
    "    \n",
    "    result['friends_ids'] = friends_ids\n",
    "\n",
    "    with open(path_to_folder_for_this_handle + str(twitter_id)+'_friends_ids.txt', 'w') as outfile:\n",
    "      json.dump(result, outfile)\n",
    "\n",
    "\n",
    "  except tweepy.TweepError:\n",
    "    print(\"tweepy.TweepError=\", tweepy.TweepError)\n",
    "    # print(\"error code\",tweepy.TweepError.message[0]['code'])\n",
    "    print(\"This error occurred for id \" + str(twitter_id) + \" and page \" + str(page_counter_friends))\n",
    "    checker=True\n",
    "    traceback.print_exc()\n",
    "\n",
    "    with open(path_to_folder_for_this_handle + str(twitter_id)+'_ERROR.txt', 'w') as outfile:\n",
    "      json.dump('error', outfile)\n",
    "\n",
    "  except:\n",
    "    e = sys.exc_info()[0]\n",
    "    print(\"Error: %s\" % e)\n",
    "    checker=True\n",
    "    traceback.print_exc()\n",
    "    with open(path_to_folder_for_this_handle + str(twitter_id)+'_ERROR.txt', 'w') as outfile:\n",
    "      json.dump('error', outfile)"
   ]
  },
  {
   "cell_type": "code",
   "execution_count": null,
   "metadata": {
    "colab": {},
    "colab_type": "code",
    "id": "3CPDT6vtuw9d"
   },
   "outputs": [],
   "source": []
  }
 ],
 "metadata": {
  "colab": {
   "collapsed_sections": [],
   "name": "V14_Twitter Friends 2019-06-03.ipynb",
   "provenance": [
    {
     "file_id": "1eKJYnAIHTjueDbqqrMPtqJO6VlUtRkav",
     "timestamp": 1556271278030
    },
    {
     "file_id": "1tEm5KE2LU5vb7Z8CS_TmxvoNoXGJqmn8",
     "timestamp": 1551882476488
    },
    {
     "file_id": "1Hax9n8eN6LeTdSIFA_CGBvsftTCpulzV",
     "timestamp": 1550074157400
    },
    {
     "file_id": "132jyyBqwofbWt2jFJYYuvuopgID_NYhH",
     "timestamp": 1548758517783
    },
    {
     "file_id": "1MLEw7dVyeaiwQamvgSXHUJCgRMLB4CV_",
     "timestamp": 1547756794708
    },
    {
     "file_id": "180dYigfig4LFXGOpPynEAKdeYkxLeJDL",
     "timestamp": 1546685929686
    },
    {
     "file_id": "1_PNIY2pwaewXL_9Riw09Ac2-FHZxuBN5",
     "timestamp": 1543856224345
    },
    {
     "file_id": "1JOYBz1ZtMX6wRSWLvGMCZeuBG3x1PcZI",
     "timestamp": 1542791993465
    },
    {
     "file_id": "1ZeI0QPRQ0dnBZkWZF6bfBcqpoT1Bxeta",
     "timestamp": 1542402299249
    },
    {
     "file_id": "1aA44MVDybJuro43buQOoW6d2FAb31pDX",
     "timestamp": 1542072959850
    },
    {
     "file_id": "1CZHBsEB8iJnRgnzV2fqeCWpM8JsZSQRn",
     "timestamp": 1540312554450
    },
    {
     "file_id": "1lun_-O8fDymR3Pkdm1AsQ9FSAQh4OoLP",
     "timestamp": 1539342881084
    },
    {
     "file_id": "1jPb2-K0HlK9dOeHHd4ff7y6iXWjzRF09",
     "timestamp": 1539276885549
    }
   ],
   "version": "0.3.2"
  },
  "kernelspec": {
   "display_name": "Python 3",
   "language": "python",
   "name": "python3"
  },
  "language_info": {
   "codemirror_mode": {
    "name": "ipython",
    "version": 3
   },
   "file_extension": ".py",
   "mimetype": "text/x-python",
   "name": "python",
   "nbconvert_exporter": "python",
   "pygments_lexer": "ipython3",
   "version": "3.6.5"
  }
 },
 "nbformat": 4,
 "nbformat_minor": 1
}
