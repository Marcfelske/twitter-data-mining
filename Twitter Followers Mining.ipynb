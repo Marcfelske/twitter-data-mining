{
 "cells": [
  {
   "cell_type": "markdown",
   "metadata": {
    "colab_type": "text",
    "id": "Xy8uVQ6we6PH"
   },
   "source": [
    "# Script to get twitter followers\n",
    "\n",
    "## Special requirements for the environment"
   ]
  },
  {
   "cell_type": "code",
   "execution_count": null,
   "metadata": {
    "colab": {},
    "colab_type": "code",
    "id": "OBk0rD1rudO-"
   },
   "outputs": [],
   "source": [
    "version_id = 'V14'\n",
    "\n",
    "run_in = 'local'\n",
    "#run_in = 'colab'"
   ]
  },
  {
   "cell_type": "markdown",
   "metadata": {
    "colab_type": "text",
    "id": "R9GHzR4zgU89"
   },
   "source": [
    "# Install requirements via pip etc."
   ]
  },
  {
   "cell_type": "markdown",
   "metadata": {
    "colab_type": "text",
    "id": "pOj6sjGVe6PL"
   },
   "source": [
    "## Import statements"
   ]
  },
  {
   "cell_type": "code",
   "execution_count": null,
   "metadata": {
    "colab": {
     "base_uri": "https://localhost:8080/",
     "height": 553
    },
    "colab_type": "code",
    "executionInfo": {
     "elapsed": 16582,
     "status": "ok",
     "timestamp": 1556535065073,
     "user": {
      "displayName": "DISPLAYNAME",
      "photoUrl": "PHOTOURL",
      "userId": "USERID"
     },
     "user_tz": -60
    },
    "id": "5Gzlbke6ueqG",
    "outputId": "deab73ec-93d2-465b-b6c2-80c38235a18b"
   },
   "outputs": [],
   "source": [
    "if run_in == 'local':\n",
    "  import csv\n",
    "  import os\n",
    "  import pandas as pd\n",
    "  import numpy as np\n",
    "  import tweepy\n",
    "  import time\n",
    "  import json\n",
    "  import sys\n",
    "  import datetime\n",
    "  import traceback\n",
    "  print('Local runtime has packages')\n",
    "  \n",
    "if run_in == 'colab':\n",
    "  print('Downloading packages has packages')\n",
    "  !pip install tweepy\n",
    "  !pip install xlrd\n",
    "  !pip install XlsxWriter\n",
    "  import csv\n",
    "  import os\n",
    "  import pandas as pd\n",
    "  import numpy as np\n",
    "  import tweepy\n",
    "  import time\n",
    "  import json\n",
    "  import sys\n",
    "  import datetime\n",
    "  import traceback"
   ]
  },
  {
   "cell_type": "markdown",
   "metadata": {
    "colab_type": "text",
    "id": "R04uUCmrgpwm"
   },
   "source": [
    "# Get access to *your personal *GDrive"
   ]
  },
  {
   "cell_type": "markdown",
   "metadata": {
    "colab_type": "text",
    "id": "MvFQcCHGii7s"
   },
   "source": [
    "## Define your personal path to the folder we will work in\n",
    "\n",
    "We expect two things on your *personal* GDrive:\n",
    "1. We expect a csv file with startup IDs\n",
    "2. We expect an output folder in which we can dump the results and the log files"
   ]
  },
  {
   "cell_type": "markdown",
   "metadata": {
    "colab_type": "text",
    "id": "d0hcznVZod8I"
   },
   "source": [
    "##Local runtime or Colab"
   ]
  },
  {
   "cell_type": "code",
   "execution_count": null,
   "metadata": {
    "colab": {
     "base_uri": "https://localhost:8080/",
     "height": 229
    },
    "colab_type": "code",
    "executionInfo": {
     "elapsed": 115499,
     "status": "ok",
     "timestamp": 1556535164095,
     "user": {
      "displayName": "DISPLAYNAME",
      "photoUrl": "PHOTOURL",
      "userId": "USERID"
     },
     "user_tz": -60
    },
    "id": "ra_u6bUModB7",
    "outputId": "790747d4-98b3-45d7-dcbc-002e4dc2d8d6"
   },
   "outputs": [],
   "source": [
    "if run_in == 'local':\n",
    "  base_path = \"/users/USERNAME/Google Drive/USERNAME/\"\n",
    "if run_in == 'colab':\n",
    "  base_path = \"/content/drive/My Drive/USERNAME/\"\n",
    "  from google.colab import drive\n",
    "  drive.mount('/content/drive')\n",
    "\n",
    "print('base_path set to:')\n",
    "print(base_path)"
   ]
  },
  {
   "cell_type": "markdown",
   "metadata": {
    "colab_type": "text",
    "id": "Zqg5EWbciWmz"
   },
   "source": [
    "### Check that we can access the GDrive and your personal folder\n",
    "\n",
    "Make sure that we can see the two things:\n",
    "1. A file called startups.csv with one column that lists all the twitter handles\n",
    "2. A folder called 'outputs' in which this script will store all results and log files"
   ]
  },
  {
   "cell_type": "code",
   "execution_count": null,
   "metadata": {
    "colab": {
     "base_uri": "https://localhost:8080/",
     "height": 119
    },
    "colab_type": "code",
    "executionInfo": {
     "elapsed": 115824,
     "status": "ok",
     "timestamp": 1556535164524,
     "user": {
      "displayName": "DISPLAYNAME",
      "photoUrl": "PHOTOURL",
      "userId": "USERID"
     },
     "user_tz": -60
    },
    "id": "TCm4OVldiaLz",
    "outputId": "b1ae0509-310d-411f-ed05-b728896b4115"
   },
   "outputs": [],
   "source": [
    "os.listdir(base_path)"
   ]
  },
  {
   "cell_type": "code",
   "execution_count": null,
   "metadata": {
    "colab": {
     "base_uri": "https://localhost:8080/",
     "height": 323
    },
    "colab_type": "code",
    "executionInfo": {
     "elapsed": 115812,
     "status": "ok",
     "timestamp": 1556535164762,
     "user": {
      "displayName": "DISPLAYNAME",
      "photoUrl": "PHOTOURL",
      "userId": "USERID"
     },
     "user_tz": -60
    },
    "id": "kkNB7JHmNwl8",
    "outputId": "61e2fdb0-1362-460b-edf7-1bbb37eaca74"
   },
   "outputs": [],
   "source": [
    "os.listdir(base_path + 'Pitchbook_Crunchbase_Tracxn_Raw')"
   ]
  },
  {
   "cell_type": "code",
   "execution_count": null,
   "metadata": {
    "colab": {
     "base_uri": "https://localhost:8080/",
     "height": 255
    },
    "colab_type": "code",
    "executionInfo": {
     "elapsed": 116461,
     "status": "ok",
     "timestamp": 1556535165501,
     "user": {
      "displayName": "DISPLAYNAME",
      "photoUrl": "PHOTOURL",
      "userId": "USERID"
     },
     "user_tz": -60
    },
    "id": "XTRvq78MyZrh",
    "outputId": "0f750af1-7f02-4874-a388-19083c517a5b"
   },
   "outputs": [],
   "source": [
    "os.listdir(base_path + \"FOLDERPATH \" + version_id)"
   ]
  },
  {
   "cell_type": "code",
   "execution_count": null,
   "metadata": {
    "colab": {
     "base_uri": "https://localhost:8080/",
     "height": 5525
    },
    "colab_type": "code",
    "executionInfo": {
     "elapsed": 119149,
     "status": "ok",
     "timestamp": 1556535168257,
     "user": {
      "displayName": "DISPLAYNAME",
      "photoUrl": "PHOTOURL",
      "userId": "USERID"
     },
     "user_tz": -60
    },
    "id": "cNHEA3hPl-K3",
    "outputId": "c6a42469-1a49-4e3f-a62e-7ad28cc876ea"
   },
   "outputs": [],
   "source": [
    "output_path = os.path.join(base_path + 'outputs/' + version_id + '/followers/id_lists/')\n",
    "os.listdir(output_path)"
   ]
  },
  {
   "cell_type": "markdown",
   "metadata": {
    "colab_type": "text",
    "id": "PTYymx4ie6Pu"
   },
   "source": [
    "## Get twitter followers"
   ]
  },
  {
   "cell_type": "markdown",
   "metadata": {
    "colab_type": "text",
    "id": "GEexHWlse6Pw"
   },
   "source": [
    "### Authentication and generate the Tweepy API"
   ]
  },
  {
   "cell_type": "code",
   "execution_count": null,
   "metadata": {
    "colab": {},
    "colab_type": "code",
    "id": "vfyA4AUde6Py"
   },
   "outputs": [],
   "source": [
    "# Documentation: http://docs.tweepy.org/en/v3.5.0/api.html\n",
    "\n",
    "consumer_key = 'consumer_key' # (API key)\n",
    "consumer_secret = 'consumer_secret' # (API secret key)\n",
    "\n",
    "access_token = 'access_token' # (Access token)\n",
    "access_token_secret = 'access_token_secret' # (Access token secret)\n",
    "\n",
    "auth = tweepy.OAuthHandler(consumer_key, consumer_secret)\n",
    "\n",
    "auth.set_access_token(access_token, access_token_secret)\n",
    "\n",
    "# Construct the API instance\n",
    "# Wait upon reaching rate limit\n",
    "api = tweepy.API(auth, wait_on_rate_limit = True, wait_on_rate_limit_notify=True, compression=True)"
   ]
  },
  {
   "cell_type": "markdown",
   "metadata": {
    "colab_type": "text",
    "id": "R1GJX8sZe6P5"
   },
   "source": [
    "### Read all start-ups"
   ]
  },
  {
   "cell_type": "code",
   "execution_count": null,
   "metadata": {
    "colab": {
     "base_uri": "https://localhost:8080/",
     "height": 359
    },
    "colab_type": "code",
    "executionInfo": {
     "elapsed": 121435,
     "status": "ok",
     "timestamp": 1556535170656,
     "user": {
      "displayName": "DISPLAYNAME",
      "photoUrl": "PHOTOURL",
      "userId": "USERID"
     },
     "user_tz": -60
    },
    "id": "EJmpAQD_e6P8",
    "outputId": "4d96e926-d02b-4be0-8aae-e427390145d8"
   },
   "outputs": [],
   "source": [
    "df = pd.read_excel(base_path + \"FOLDERPATH \" + version_id + '/' + version_id + '.xlsx',  version_id + 'twitter_handle_scrape', encoding = \"ISO-8859-1\", header=None, skiprows=1, dtype={'uid':str}, names=['company_name','twitter_handle'], usecols=\"A,O\")\n",
    "df.head(10)"
   ]
  },
  {
   "cell_type": "code",
   "execution_count": null,
   "metadata": {
    "colab": {
     "base_uri": "https://localhost:8080/",
     "height": 34
    },
    "colab_type": "code",
    "executionInfo": {
     "elapsed": 121379,
     "status": "ok",
     "timestamp": 1556535170660,
     "user": {
      "displayName": "DISPLAYNAME",
      "photoUrl": "PHOTOURL",
      "userId": "USERID"
     },
     "user_tz": -60
    },
    "id": "FKrZvzHtlUX7",
    "outputId": "4e24945a-00b5-47dd-a35a-f4d83ad3232d"
   },
   "outputs": [],
   "source": [
    "df.shape"
   ]
  },
  {
   "cell_type": "markdown",
   "metadata": {
    "colab_type": "text",
    "id": "U3_7HKcSe6QI"
   },
   "source": [
    "### Clean start-ups without Twitter handles"
   ]
  },
  {
   "cell_type": "markdown",
   "metadata": {
    "colab_type": "text",
    "id": "xrLnT6s4e6QL"
   },
   "source": [
    "Filter rows so that \"NOTAPPLICABLE\" is not in the data"
   ]
  },
  {
   "cell_type": "code",
   "execution_count": null,
   "metadata": {
    "colab": {
     "base_uri": "https://localhost:8080/",
     "height": 204
    },
    "colab_type": "code",
    "executionInfo": {
     "elapsed": 121325,
     "status": "ok",
     "timestamp": 1556535170664,
     "user": {
      "displayName": "DISPLAYNAME",
      "photoUrl": "PHOTOURL",
      "userId": "USERID"
     },
     "user_tz": -60
    },
    "id": "PF_2-khWe6Qk",
    "outputId": "8a9888fe-923e-40ad-ba84-d662863b8875"
   },
   "outputs": [],
   "source": [
    "useful_rows = df.loc[df['twitter_handle'] != \"NOTAPPLICABLE\"]\n",
    "\n",
    "useful_rows.head(5)"
   ]
  },
  {
   "cell_type": "code",
   "execution_count": null,
   "metadata": {
    "colab": {
     "base_uri": "https://localhost:8080/",
     "height": 34
    },
    "colab_type": "code",
    "executionInfo": {
     "elapsed": 121277,
     "status": "ok",
     "timestamp": 1556535170666,
     "user": {
      "displayName": "DISPLAYNAME",
      "photoUrl": "PHOTOURL",
      "userId": "USERID"
     },
     "user_tz": -60
    },
    "id": "WUPQhSDaloGp",
    "outputId": "ea2cafd5-4012-49d0-eaa2-f874035871a0"
   },
   "outputs": [],
   "source": [
    "useful_rows.shape"
   ]
  },
  {
   "cell_type": "code",
   "execution_count": null,
   "metadata": {
    "colab": {
     "base_uri": "https://localhost:8080/",
     "height": 1071
    },
    "colab_type": "code",
    "executionInfo": {
     "elapsed": 121217,
     "status": "ok",
     "timestamp": 1556535170667,
     "user": {
      "displayName": "DISPLAYNAME",
      "photoUrl": "PHOTOURL",
      "userId": "USERID"
     },
     "user_tz": -60
    },
    "id": "bfUrOQkqt88N",
    "outputId": "67f1a71e-d58b-44af-fcf1-c93fa7ba264e"
   },
   "outputs": [],
   "source": [
    "# Check if we have any duplicate handles\n",
    "\n",
    "useful_rows['twitter_handle'].value_counts()"
   ]
  },
  {
   "cell_type": "code",
   "execution_count": null,
   "metadata": {
    "colab": {
     "base_uri": "https://localhost:8080/",
     "height": 359
    },
    "colab_type": "code",
    "executionInfo": {
     "elapsed": 121172,
     "status": "ok",
     "timestamp": 1556535170669,
     "user": {
      "displayName": "DISPLAYNAME",
      "photoUrl": "PHOTOURL",
      "userId": "USERID"
     },
     "user_tz": -60
    },
    "id": "xm42Tz-pT0Sa",
    "outputId": "b70b626b-93ce-4842-a754-ae92cfec7405"
   },
   "outputs": [],
   "source": [
    "# Check if we have null results\n",
    "\n",
    "# pd.isnull(useful_rows)\n",
    "\n",
    "useful_rows.dropna()\n",
    "useful_rows[:10]"
   ]
  },
  {
   "cell_type": "code",
   "execution_count": null,
   "metadata": {
    "colab": {
     "base_uri": "https://localhost:8080/",
     "height": 34
    },
    "colab_type": "code",
    "executionInfo": {
     "elapsed": 120817,
     "status": "ok",
     "timestamp": 1556535170670,
     "user": {
      "displayName": "DISPLAYNAME",
      "photoUrl": "PHOTOURL",
      "userId": "USERID"
     },
     "user_tz": -60
    },
    "id": "YDo5Bb8IX6F4",
    "outputId": "471b00d9-2bec-41c2-d20f-dab827b70a78"
   },
   "outputs": [],
   "source": [
    "useful_rows.shape"
   ]
  },
  {
   "cell_type": "markdown",
   "metadata": {
    "colab_type": "text",
    "id": "kEmuUW8me6RN"
   },
   "source": [
    "### Extract the remaining Twitter handles"
   ]
  },
  {
   "cell_type": "code",
   "execution_count": null,
   "metadata": {
    "colab": {
     "base_uri": "https://localhost:8080/",
     "height": 34
    },
    "colab_type": "code",
    "executionInfo": {
     "elapsed": 120739,
     "status": "ok",
     "timestamp": 1556535170674,
     "user": {
      "displayName": "DISPLAYNAME",
      "photoUrl": "PHOTOURL",
      "userId": "USERID"
     },
     "user_tz": -60
    },
    "id": "6X2x3d3He6RP",
    "outputId": "cc47c8e8-8acd-4e8b-9a41-703812b6bc2e"
   },
   "outputs": [],
   "source": [
    "list_of_handles_from_csv = useful_rows['twitter_handle'].tolist()\n",
    "\n",
    "# Remove nan values=\n",
    "list_of_handles_from_csv = [x for x in list_of_handles_from_csv if x == x]\n",
    "\n",
    "print(\"We have this many handles: \" + str(len(list_of_handles_from_csv)))"
   ]
  },
  {
   "cell_type": "markdown",
   "metadata": {
    "colab_type": "text",
    "id": "RmzPI0L6qTg9"
   },
   "source": [
    "## Instead of looping through all handles, we only take those where we do not have complete results yet\n",
    "\n",
    "* Do we have a folder already? \n",
    "  * If not, add handle to list.\n",
    "  * If yes, do we have all 4 files we need? If not, add handle to list."
   ]
  },
  {
   "cell_type": "code",
   "execution_count": null,
   "metadata": {
    "colab": {
     "base_uri": "https://localhost:8080/",
     "height": 34
    },
    "colab_type": "code",
    "executionInfo": {
     "elapsed": 120653,
     "status": "ok",
     "timestamp": 1556535170675,
     "user": {
      "displayName": "DISPLAYNAME",
      "photoUrl": "PHOTOURL",
      "userId": "USERID"
     },
     "user_tz": -60
    },
    "id": "DzUclmmpq4NW",
    "outputId": "62cd6658-8dbf-48dc-fd7e-7b3d092aad63"
   },
   "outputs": [],
   "source": [
    "list_of_handles_we_still_need_to_process = []\n",
    "\n",
    "# Convert list of handles from CSV into a set\n",
    "set_of_handles_from_csv = set(list_of_handles_from_csv)\n",
    "print(len(set_of_handles_from_csv))"
   ]
  },
  {
   "cell_type": "markdown",
   "metadata": {
    "colab_type": "text",
    "id": "1ybsKIMIrldi"
   },
   "source": [
    "#### Check folder names against the set of handles"
   ]
  },
  {
   "cell_type": "code",
   "execution_count": null,
   "metadata": {
    "colab": {
     "base_uri": "https://localhost:8080/",
     "height": 74
    },
    "colab_type": "code",
    "executionInfo": {
     "elapsed": 120547,
     "status": "ok",
     "timestamp": 1556535170676,
     "user": {
      "displayName": "DISPLAYNAME",
      "photoUrl": "PHOTOURL",
      "userId": "USERID"
     },
     "user_tz": -60
    },
    "id": "7MvKhgenruRt",
    "outputId": "13aef680-a472-4aec-b4b1-81ef50dc7d44"
   },
   "outputs": [],
   "source": [
    "list_of_folders = [dI for dI in os.listdir(output_path) if os.path.isdir(os.path.join(output_path,dI))]\n",
    "print(list_of_folders)"
   ]
  },
  {
   "cell_type": "code",
   "execution_count": null,
   "metadata": {
    "colab": {
     "base_uri": "https://localhost:8080/",
     "height": 74
    },
    "colab_type": "code",
    "executionInfo": {
     "elapsed": 120480,
     "status": "ok",
     "timestamp": 1556535170678,
     "user": {
      "displayName": "DISPLAYNAME",
      "photoUrl": "PHOTOURL",
      "userId": "USERID"
     },
     "user_tz": -60
    },
    "id": "jsBhp--MvBgk",
    "outputId": "034d47d5-8e8f-47f7-ecfb-3fb3f6f354aa"
   },
   "outputs": [],
   "source": [
    "# Convert list into set and compare it to above list\n",
    "# What has not a folder yet, needs to be processed in any case\n",
    "\n",
    "set_of_folder_names_we_have_already = set(list_of_folders)\n",
    "print(set_of_folder_names_we_have_already)"
   ]
  },
  {
   "cell_type": "code",
   "execution_count": null,
   "metadata": {
    "colab": {
     "base_uri": "https://localhost:8080/",
     "height": 34
    },
    "colab_type": "code",
    "executionInfo": {
     "elapsed": 121113,
     "status": "ok",
     "timestamp": 1556535171398,
     "user": {
      "displayName": "DISPLAYNAME",
      "photoUrl": "PHOTOURL",
      "userId": "USERID"
     },
     "user_tz": -60
    },
    "id": "6sehF-dDvTyy",
    "outputId": "3773def5-49ad-422d-9b04-03553baa8ed0"
   },
   "outputs": [],
   "source": [
    "print('We have ' + str(len(set_of_folder_names_we_have_already)) + ' folders stored already.')"
   ]
  },
  {
   "cell_type": "code",
   "execution_count": null,
   "metadata": {
    "colab": {
     "base_uri": "https://localhost:8080/",
     "height": 91
    },
    "colab_type": "code",
    "executionInfo": {
     "elapsed": 119629,
     "status": "ok",
     "timestamp": 1556535171400,
     "user": {
      "displayName": "DISPLAYNAME",
      "photoUrl": "PHOTOURL",
      "userId": "USERID"
     },
     "user_tz": -60
    },
    "id": "bahAtKVbvhfi",
    "outputId": "44b77e23-e5d8-442d-ef44-d3e230693f99"
   },
   "outputs": [],
   "source": [
    "set_of_handles_without_a_folder = set_of_handles_from_csv - set_of_folder_names_we_have_already\n",
    "\n",
    "print(set_of_handles_without_a_folder)\n",
    "print('We do not have folders for ' + str(len(set_of_handles_without_a_folder)) + ' handles.')"
   ]
  },
  {
   "cell_type": "code",
   "execution_count": null,
   "metadata": {
    "colab": {},
    "colab_type": "code",
    "id": "cOmPyI8Pv9SJ"
   },
   "outputs": [],
   "source": [
    "# Add them to the todo list\n",
    "list_of_handles_we_still_need_to_process = list(set_of_handles_without_a_folder)"
   ]
  },
  {
   "cell_type": "code",
   "execution_count": null,
   "metadata": {
    "colab": {
     "base_uri": "https://localhost:8080/",
     "height": 34
    },
    "colab_type": "code",
    "executionInfo": {
     "elapsed": 134171,
     "status": "ok",
     "timestamp": 1556535186010,
     "user": {
      "displayName": "DISPLAYNAME",
      "photoUrl": "PHOTOURL",
      "userId": "USERID"
     },
     "user_tz": -60
    },
    "id": "MO9zOAg_wUR8",
    "outputId": "3762f113-9d9e-4d3e-d836-57d8f83c5a53"
   },
   "outputs": [],
   "source": [
    "\n",
    "\n",
    "counter = 0\n",
    "\n",
    "for folder_name in set_of_folder_names_we_have_already:\n",
    "  \n",
    "  # Every x is a root, dirs, files\n",
    "  list_of_files = [x[2] for x in os.walk(output_path + str(folder_name))]\n",
    "  # print(list_of_files[0])\n",
    "  \n",
    "  if len(list_of_files[0]) <= 0:\n",
    "    \n",
    "    list_of_handles_we_still_need_to_process.append(folder_name)\n",
    "    counter += 1\n",
    "\n",
    "print('We added ' + str(counter) + ' additional handles where the download was incomplete.')"
   ]
  },
  {
   "cell_type": "code",
   "execution_count": null,
   "metadata": {
    "colab": {
     "base_uri": "https://localhost:8080/",
     "height": 74
    },
    "colab_type": "code",
    "executionInfo": {
     "elapsed": 134146,
     "status": "ok",
     "timestamp": 1556535186014,
     "user": {
      "displayName": "DISPLAYNAME",
      "photoUrl": "PHOTOURL",
      "userId": "USERID"
     },
     "user_tz": -60
    },
    "id": "CDLp3wumx2th",
    "outputId": "dd8f3352-e7ac-4037-c1ab-c0479b2d34bd"
   },
   "outputs": [],
   "source": [
    "print(list_of_handles_we_still_need_to_process)"
   ]
  },
  {
   "cell_type": "code",
   "execution_count": null,
   "metadata": {
    "colab": {
     "base_uri": "https://localhost:8080/",
     "height": 74
    },
    "colab_type": "code",
    "executionInfo": {
     "elapsed": 134116,
     "status": "ok",
     "timestamp": 1556535186019,
     "user": {
      "displayName": "DISPLAYNAME",
      "photoUrl": "PHOTOURL",
      "userId": "USERID"
     },
     "user_tz": -60
    },
    "id": "uA6IQUIIzi3L",
    "outputId": "8a154a4c-eca8-488f-ac71-b5e11b363388"
   },
   "outputs": [],
   "source": [
    "list_of_handles_we_still_need_to_process.sort()\n",
    "print(list_of_handles_we_still_need_to_process)"
   ]
  },
  {
   "cell_type": "markdown",
   "metadata": {
    "colab_type": "text",
    "id": "EUwWNN3Oe6RY"
   },
   "source": [
    "### Loop through Twitter handles and obtain the Followers and Friends IDs\n",
    "\n",
    "\n",
    "* Take one start-up Twitter handle and determine the Follower IDs\n",
    " * The output is stored as a JSON in the base folder locationsts.\n"
   ]
  },
  {
   "cell_type": "code",
   "execution_count": null,
   "metadata": {
    "colab": {},
    "colab_type": "code",
    "id": "TP25RfCwe6Ra",
    "outputId": "6af4b901-96b6-4bf9-ae0b-0097c8bea41a"
   },
   "outputs": [],
   "source": [
    "for twitter_id in list_of_handles_we_still_need_to_process[2:]:\n",
    "\n",
    "  print(twitter_id)\n",
    "  start_up = api.get_user(twitter_id)\n",
    "  print(\"-------------\" + str(list_of_handles_we_still_need_to_process.index(twitter_id)) + \"/\" + str(len(list_of_handles_we_still_need_to_process))+ \"---------------\")\n",
    "  print('Start-up: ' + str(twitter_id)) \n",
    "  print('Start-up_ID: ' + str(start_up.id))\n",
    "  print('Start-up_screen_name: ' + str(start_up.screen_name)) \n",
    "  print('Start-up_description: ' + str(start_up.description))\n",
    "  print('Start-up_url: ' + str(start_up.url))\n",
    "  print('Start-up_created_at: ' + str(start_up.created_at))\n",
    "\n",
    "\n",
    "  result = {\n",
    "      \"twitter_handle\": twitter_id\n",
    "  }\n",
    "\n",
    "  # Create a folder to store this twitter handle's results\n",
    "  path_to_folder_for_this_handle = output_path + str(twitter_id) + '/'\n",
    "  print(path_to_folder_for_this_handle)\n",
    "  if not os.path.exists(path_to_folder_for_this_handle):\n",
    "    os.mkdir(path_to_folder_for_this_handle)\n",
    "\n",
    "  ######################\n",
    "  # Get followers\n",
    "  ######################\n",
    "\n",
    "  follower_ids = []\n",
    "  page_counter_followers = 0\n",
    "\n",
    "  try:\n",
    "\n",
    "      # We can use screen_name (screen_name = ) or id as a parameter (id = 'McDonalds')\n",
    "      # followers_ids has a max count per page of 5000 \n",
    "      for page in tweepy.Cursor(api.followers_ids, id = twitter_id, count = 5000).pages():\n",
    "          follower_ids.extend(page)\n",
    "          print('This is page ' + str(page_counter_followers))\n",
    "          page_counter_followers += 1\n",
    "          time.sleep(2)\n",
    "\n",
    "      print(\"Number of ids in the list: \" + str(len(follower_ids)))\n",
    "      print(\"Follower IDs:\")\n",
    "      print(follower_ids)\n",
    "      print(datetime.datetime.now())\n",
    "      \n",
    "      result['follower_ids'] = follower_ids\n",
    "\n",
    "      with open(path_to_folder_for_this_handle + str(twitter_id)+'_follower_ids.txt', 'w') as outfile:\n",
    "          json.dump(result, outfile)\n",
    "\n",
    "\n",
    "  except tweepy.TweepError:\n",
    "      print(\"tweepy.TweepError=\", tweepy.TweepError) \n",
    "      # print(\"error code\",tweepy.TweepError.message[0]['code'])\n",
    "      print(\"This error occurred for id \" + str(twitter_id) + \" and page \" + str(page_counter_followers))\n",
    "      checker=True\n",
    "      traceback.print_exc()\n",
    "      \n",
    "      with open(path_to_folder_for_this_handle + str(twitter_id)+'_ERROR.txt', 'w') as outfile:\n",
    "          json.dump('error', outfile)\n",
    "\n",
    "  except:\n",
    "      e = sys.exc_info()[0]\n",
    "      print(\"Error: %s\" % e)\n",
    "      checker=True\n",
    "      traceback.print_exc()\n",
    "      with open(path_to_folder_for_this_handle + str(twitter_id)+'_ERROR.txt', 'w') as outfile:\n",
    "          json.dump('error', outfile)"
   ]
  },
  {
   "cell_type": "code",
   "execution_count": null,
   "metadata": {},
   "outputs": [],
   "source": []
  },
  {
   "cell_type": "code",
   "execution_count": null,
   "metadata": {
    "colab": {},
    "colab_type": "code",
    "id": "apsP8llfusrE"
   },
   "outputs": [],
   "source": []
  }
 ],
 "metadata": {
  "colab": {
   "collapsed_sections": [],
   "name": "V14_Twitter Follower 2019-06-03.ipynb",
   "provenance": [
    {
     "file_id": "1B2wKUqJoIw8AKj2fPpWkHDl8mAr2Ua71",
     "timestamp": 1551882534006
    },
    {
     "file_id": "1mNPEN10cvZRGnFbXSEGUcStIuEAhNg6p",
     "timestamp": 1550074133053
    },
    {
     "file_id": "1sJ4c8K3ZWlL8WNsbixkqmveLo7OFe0_Y",
     "timestamp": 1548758505698
    },
    {
     "file_id": "1j4zz0MP4nWH6pGygDYTXcBU7_TBdQvFO",
     "timestamp": 1547756778271
    },
    {
     "file_id": "12fwcq82keD-PNr75nhzDCnN7fF6XTC91",
     "timestamp": 1546685990663
    },
    {
     "file_id": "1cxzs450YRj47oux8HWoZZTL7tCqMGRXp",
     "timestamp": 1543860855834
    },
    {
     "file_id": "1_via9Mq78xxYWs1Bmx95OZigmA3rEBbm",
     "timestamp": 1542791934781
    },
    {
     "file_id": "1jMrhDyoRgolz0h-vt14an600p6OXI73L",
     "timestamp": 1542402364265
    },
    {
     "file_id": "10HfmCcmtSM3fiL5S87Fn2M0nJhjw7q76",
     "timestamp": 1542073015849
    },
    {
     "file_id": "1jPb2-K0HlK9dOeHHd4ff7y6iXWjzRF09",
     "timestamp": 1540300641246
    }
   ],
   "version": "0.3.2"
  },
  "kernelspec": {
   "display_name": "Python 3",
   "language": "python",
   "name": "python3"
  },
  "language_info": {
   "codemirror_mode": {
    "name": "ipython",
    "version": 3
   },
   "file_extension": ".py",
   "mimetype": "text/x-python",
   "name": "python",
   "nbconvert_exporter": "python",
   "pygments_lexer": "ipython3",
   "version": "3.6.5"
  }
 },
 "nbformat": 4,
 "nbformat_minor": 1
}
